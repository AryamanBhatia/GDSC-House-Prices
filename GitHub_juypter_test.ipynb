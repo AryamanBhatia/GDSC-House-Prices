{
 "cells": [
  {
   "cell_type": "code",
   "execution_count": 1,
   "id": "e05259bf",
   "metadata": {},
   "outputs": [
    {
     "name": "stdout",
     "output_type": "stream",
     "text": [
      "hello world\n"
     ]
    }
   ],
   "source": [
    "print('hello world')"
   ]
  },
  {
   "cell_type": "code",
   "execution_count": null,
   "id": "f41011ae",
   "metadata": {},
   "outputs": [],
   "source": [
    "print('hello world2')\n",
    "print('hello world3')\n",
    "\n",
    "print('onlyfriends.com/@rytham')"
   ]
  },
  {
   "cell_type": "code",
   "execution_count": 1,
   "id": "46e9121a",
   "metadata": {},
   "outputs": [
    {
     "name": "stdout",
     "output_type": "stream",
     "text": [
      "restarting and seeing if it still works\n"
     ]
    }
   ],
   "source": [
    "print('restarting and seeing if it still works')"
   ]
  }
 ],
 "metadata": {
  "kernelspec": {
   "display_name": "base",
   "language": "python",
   "name": "python3"
  },
  "language_info": {
   "codemirror_mode": {
    "name": "ipython",
    "version": 3
   },
   "file_extension": ".py",
   "mimetype": "text/x-python",
   "name": "python",
   "nbconvert_exporter": "python",
   "pygments_lexer": "ipython3",
   "version": "3.9.13"
  },
  "vscode": {
   "interpreter": {
    "hash": "83d8cbaed3baa16eecc2ca703902bebd5d743cb483fbc09acbbd7bd1b639e8af"
   }
  }
 },
 "nbformat": 4,
 "nbformat_minor": 5
}
