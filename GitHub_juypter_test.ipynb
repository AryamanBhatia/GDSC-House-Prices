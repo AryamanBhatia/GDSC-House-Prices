{
 "cells": [
  {
   "cell_type": "code",
   "execution_count": 1,
   "id": "e05259bf",
   "metadata": {},
   "outputs": [
    {
     "name": "stdout",
     "output_type": "stream",
     "text": [
      "hello world\n"
     ]
    }
   ],
   "source": [
    "print('hello world')"
   ]
  },
  {
   "cell_type": "code",
   "execution_count": 2,
   "id": "f41011ae",
   "metadata": {},
   "outputs": [
    {
     "name": "stdout",
     "output_type": "stream",
     "text": [
      "hello world2\n",
      "hello world3\n",
      "onlyfriends.com/@rytham\n"
     ]
    }
   ],
   "source": [
    "print('hello world2')\n",
    "print('hello world3')\n",
    "\n",
    "print('onlyfriends.com/@rytham')"
   ]
  },
  {
   "cell_type": "code",
   "execution_count": 3,
   "id": "46e9121a",
   "metadata": {},
   "outputs": [
    {
     "name": "stdout",
     "output_type": "stream",
     "text": [
      "this is aryaman\n"
     ]
    }
   ],
   "source": [
    "print('this is aryaman')"
   ]
  },
  {
   "cell_type": "code",
   "execution_count": 4,
   "id": "aa66efd6",
   "metadata": {},
   "outputs": [],
   "source": [
    "#hello its me aryaman"
   ]
  },
  {
   "cell_type": "code",
   "execution_count": 5,
   "id": "9f9d602f",
   "metadata": {},
   "outputs": [],
   "source": [
    "#hello"
   ]
  },
  {
   "cell_type": "code",
   "execution_count": 6,
   "id": "89a38593",
   "metadata": {},
   "outputs": [
    {
     "name": "stdout",
     "output_type": "stream",
     "text": [
      "jupyter\n"
     ]
    }
   ],
   "source": [
    "print('jupyter')"
   ]
  }
 ],
 "metadata": {
  "kernelspec": {
   "display_name": "base",
   "language": "python",
   "name": "python3"
  },
  "language_info": {
   "codemirror_mode": {
    "name": "ipython",
    "version": 3
   },
   "file_extension": ".py",
   "mimetype": "text/x-python",
   "name": "python",
   "nbconvert_exporter": "python",
   "pygments_lexer": "ipython3",
   "version": "3.9.13"
  },
  "vscode": {
   "interpreter": {
    "hash": "84aca4059e857493901eb482f87f3007af900b6618656940bcbf822296c5f87e"
   }
  }
 },
 "nbformat": 4,
 "nbformat_minor": 5
}
